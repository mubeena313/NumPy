{
 "cells": [
  {
   "cell_type": "code",
   "execution_count": 2,
   "id": "c72e75e4-c701-4bb5-b400-e46e487b763f",
   "metadata": {},
   "outputs": [
    {
     "name": "stdout",
     "output_type": "stream",
     "text": [
      "1.26.4\n"
     ]
    }
   ],
   "source": [
    "#1.import numpy as np and print the version number:\n",
    "import numpy as np\n",
    "print(np.__version__)"
   ]
  },
  {
   "cell_type": "code",
   "execution_count": 4,
   "id": "d8bd5566-1a55-4a41-a862-bddd681ca10a",
   "metadata": {},
   "outputs": [
    {
     "name": "stdout",
     "output_type": "stream",
     "text": [
      "[ 0  1  2  3  4  5  6  7  8  9 10 11 12]\n"
     ]
    }
   ],
   "source": [
    "#2.create a 1D array of numbers from 0 to 12:\n",
    "import numpy as np\n",
    "arr = np.arange(13)\n",
    "print(arr)"
   ]
  },
  {
   "cell_type": "code",
   "execution_count": 5,
   "id": "eff47ff9-bbe8-45a6-b815-4e481ff8600b",
   "metadata": {},
   "outputs": [
    {
     "name": "stdout",
     "output_type": "stream",
     "text": [
      "[[ True  True  True]\n",
      " [ True  True  True]]\n"
     ]
    }
   ],
   "source": [
    "#3.create a 2X3 numpy array of all trues\n",
    "import numpy as np\n",
    "arr= np.ones((2,3), dtype=bool)\n",
    "print(arr)"
   ]
  },
  {
   "cell_type": "code",
   "execution_count": 7,
   "id": "91a0be14-8a99-4c8d-a269-bc63e3a40847",
   "metadata": {},
   "outputs": [
    {
     "name": "stdout",
     "output_type": "stream",
     "text": [
      "(array([1, 3, 5, 7, 9], dtype=int64),)\n"
     ]
    }
   ],
   "source": [
    "#4.how to extract items that satisfy a given condition from 1D array?etract all odd numbers from a 1D array\n",
    "import numpy as np\n",
    "arr=np.array([0,1,2,3,4,5,6,7,8,9])\n",
    "odd_numbers=np.where(arr % 2 == 1)\n",
    "print(odd_numbers)"
   ]
  },
  {
   "cell_type": "code",
   "execution_count": 12,
   "id": "04a8cbf9-a2d2-4925-9576-e0e8fff5cb78",
   "metadata": {},
   "outputs": [
    {
     "name": "stdout",
     "output_type": "stream",
     "text": [
      "[ 0 -1  2 -1  4 -1  6 -1  8 -1]\n"
     ]
    }
   ],
   "source": [
    "#5.how to replace items that satisfy a given condition with another value in numpy array?replace all odd numbers  in arr with -1\n",
    "#itemsthat satisfy a given condition with another value in numpy can replace by using boolean indexing\n",
    "import numpy as np\n",
    "arr =np.array([0,1,2,3,4,5,6,7,8,9])\n",
    "arr [arr % 2 != 0] = -1\n",
    "print(arr)"
   ]
  },
  {
   "cell_type": "code",
   "execution_count": 13,
   "id": "886d0a33-fb06-47c4-ae69-71b541976a25",
   "metadata": {},
   "outputs": [
    {
     "name": "stdout",
     "output_type": "stream",
     "text": [
      "[[0 1 2 3 4]\n",
      " [5 6 7 8 9]]\n"
     ]
    }
   ],
   "source": [
    "#6.convert a 1D array to a 2D array with 2 rows:\n",
    "import numpy as np\n",
    "arr = np.array([0,1,2,3,4,5,6,7,8,9])\n",
    "x =arr.reshape(2, -1)\n",
    "print(x)\n"
   ]
  },
  {
   "cell_type": "code",
   "execution_count": 16,
   "id": "66fe6346-56d1-4a17-b19f-2d283e4caf17",
   "metadata": {},
   "outputs": [
    {
     "name": "stdout",
     "output_type": "stream",
     "text": [
      "[[ 1  2  3]\n",
      " [ 4  5  6]\n",
      " [ 7  8  9]\n",
      " [10 11 12]]\n"
     ]
    }
   ],
   "source": [
    "#7.stack array a and b vertically:\n",
    "import numpy as np\n",
    "a=np.array([[1,2,3],[4,5,6]])\n",
    "b =np.array([[7,8,9],[10,11,12]])\n",
    "arr =np.vstack((a,b))\n",
    "print(arr)\n"
   ]
  },
  {
   "cell_type": "code",
   "execution_count": 17,
   "id": "b4f84067-7cca-4f30-9157-e7f15c477b74",
   "metadata": {},
   "outputs": [
    {
     "name": "stdout",
     "output_type": "stream",
     "text": [
      "[[ 1  2  3  7  8  9]\n",
      " [ 4  5  6 10 11 12]]\n"
     ]
    }
   ],
   "source": [
    "#8.stack the arrays a and b horizontally:\n",
    "import numpy as np\n",
    "a =([[1,2,3],[4,5,6]])\n",
    "b=([[7,8,9],[10,11,12]])\n",
    "arr =np.hstack((a,b))\n",
    "print(arr)\n"
   ]
  },
  {
   "cell_type": "code",
   "execution_count": 18,
   "id": "f631216e-e192-4138-ad49-33fc2d10a25c",
   "metadata": {},
   "outputs": [
    {
     "name": "stdout",
     "output_type": "stream",
     "text": [
      "[1 2 2 3 3 3]\n"
     ]
    }
   ],
   "source": [
    "#9.create the following pattern without hardcoding . use only numpy functions and the below input array a.\n",
    "#input = np.array([1,2,3])\n",
    "import numpy as np\n",
    "arr =np.array([1,2,3])\n",
    "x =np.repeat(arr, arr)\n",
    "print(x)"
   ]
  },
  {
   "cell_type": "code",
   "execution_count": 20,
   "id": "6a5de5a0-df8a-4d2f-9f18-e5d6242f91cb",
   "metadata": {},
   "outputs": [
    {
     "name": "stdout",
     "output_type": "stream",
     "text": [
      "(array([2], dtype=int64),)\n"
     ]
    }
   ],
   "source": [
    "#10.get a index positions where elements of a and b match:\n",
    "import numpy as np\n",
    "a = np.array([1,2,3,4,5])\n",
    "b = np.array([5,4,3,2,1])\n",
    "arr =np.where(a == b)\n",
    "print(arr)\n"
   ]
  },
  {
   "cell_type": "code",
   "execution_count": 24,
   "id": "707e9e9e-57f8-4cee-80cb-226492da88d5",
   "metadata": {},
   "outputs": [
    {
     "name": "stdout",
     "output_type": "stream",
     "text": [
      "[[1 3 2]\n",
      " [4 6 5]\n",
      " [7 9 8]]\n"
     ]
    }
   ],
   "source": [
    "#11.swap column 1 and 2 in the array arr.\n",
    "import numpy as np\n",
    "arr =np.array([[1,2,3],[4,5,6],[7,8,9]])\n",
    "arr[:, [1,2]] = arr[:, [2,1]]\n",
    "print(arr)\n"
   ]
  },
  {
   "cell_type": "code",
   "execution_count": 26,
   "id": "ab68ced2-375d-497f-860d-1e4771b607ed",
   "metadata": {},
   "outputs": [
    {
     "name": "stdout",
     "output_type": "stream",
     "text": [
      "[[3 2 1]\n",
      " [6 5 4]\n",
      " [9 8 7]]\n"
     ]
    }
   ],
   "source": [
    "#12.reverse the coloumn of a 2D array arr:\n",
    "import numpy as np\n",
    "arr =np.array([[1,2,3],[4,5,6],[7,8,9]])\n",
    "reversed_arr = arr[:, ::-1]\n",
    "print(reversed_arr)\n"
   ]
  },
  {
   "cell_type": "code",
   "execution_count": 27,
   "id": "2819b684-4e54-46f1-80a4-0f0ab0702e42",
   "metadata": {},
   "outputs": [
    {
     "name": "stdout",
     "output_type": "stream",
     "text": [
      "[[9.89072009 7.43787682 9.33207396]\n",
      " [9.58584624 8.58384481 9.49766877]\n",
      " [6.62314387 5.29195448 8.3703892 ]\n",
      " [9.97200458 5.24729752 7.03067833]\n",
      " [6.76708264 8.50696245 5.85149236]]\n"
     ]
    }
   ],
   "source": [
    "#13.create a 2D array of shape 5X3 to contain random decimal numbers between 5 and 10:\n",
    "import numpy as np\n",
    "arr =np.random.uniform(5,10, size =(5,3))\n",
    "print(arr)"
   ]
  },
  {
   "cell_type": "code",
   "execution_count": 29,
   "id": "d82b29c4-0b50-45b6-adc6-d9137661841a",
   "metadata": {},
   "outputs": [
    {
     "name": "stdout",
     "output_type": "stream",
     "text": [
      "[0.22222222 0.16666667 0.11111111 0.08333333 0.19444444 0.30555556\n",
      " 0.08333333 0.19444444 0.02777778 0.16666667 0.30555556 0.13888889\n",
      " 0.13888889 0.         0.41666667 0.38888889 0.30555556 0.22222222\n",
      " 0.38888889 0.22222222 0.30555556 0.22222222 0.08333333 0.22222222\n",
      " 0.13888889 0.19444444 0.19444444 0.25       0.25       0.11111111\n",
      " 0.13888889 0.30555556 0.25       0.33333333 0.16666667 0.19444444\n",
      " 0.33333333 0.16666667 0.02777778 0.22222222 0.19444444 0.05555556\n",
      " 0.02777778 0.19444444 0.22222222 0.13888889 0.22222222 0.08333333\n",
      " 0.27777778 0.19444444 0.75       0.58333333 0.72222222 0.33333333\n",
      " 0.61111111 0.38888889 0.55555556 0.16666667 0.63888889 0.25\n",
      " 0.19444444 0.44444444 0.47222222 0.5        0.36111111 0.66666667\n",
      " 0.36111111 0.41666667 0.52777778 0.36111111 0.44444444 0.5\n",
      " 0.55555556 0.5        0.58333333 0.63888889 0.69444444 0.66666667\n",
      " 0.47222222 0.38888889 0.33333333 0.33333333 0.41666667 0.47222222\n",
      " 0.30555556 0.47222222 0.66666667 0.55555556 0.36111111 0.33333333\n",
      " 0.33333333 0.5        0.41666667 0.19444444 0.36111111 0.38888889\n",
      " 0.38888889 0.52777778 0.22222222 0.38888889 0.55555556 0.41666667\n",
      " 0.77777778 0.55555556 0.61111111 0.91666667 0.16666667 0.83333333\n",
      " 0.66666667 0.80555556 0.61111111 0.58333333 0.69444444 0.38888889\n",
      " 0.41666667 0.58333333 0.61111111 0.94444444 0.94444444 0.47222222\n",
      " 0.72222222 0.36111111 0.94444444 0.55555556 0.66666667 0.80555556\n",
      " 0.52777778 0.5        0.58333333 0.80555556 0.86111111 1.\n",
      " 0.58333333 0.55555556 0.5        0.94444444 0.55555556 0.58333333\n",
      " 0.47222222 0.72222222 0.66666667 0.72222222 0.41666667 0.69444444\n",
      " 0.66666667 0.66666667 0.55555556 0.61111111 0.52777778 0.44444444]\n"
     ]
    }
   ],
   "source": [
    "#14.create a normalized form of iri's sepallength whose values range exactly between 0 and 1 so that the minimum has value 0 and maximum has value 1:\n",
    "import numpy as np\n",
    "from sklearn import datasets\n",
    "iris = datasets.load_iris()\n",
    "sepal_length = iris.data[: ,0]\n",
    "min_val = np.min(sepal_length)\n",
    "max_val=np.max(sepal_length)\n",
    "normalized_sepal_length =(sepal_length - min_val) / (max_val - min_val)\n",
    "print(normalized_sepal_length)"
   ]
  },
  {
   "cell_type": "code",
   "execution_count": null,
   "id": "d4cc693d-d1ca-4f17-b5b3-20e3970d4735",
   "metadata": {},
   "outputs": [],
   "source": [
    "#"
   ]
  }
 ],
 "metadata": {
  "kernelspec": {
   "display_name": "Python 3 (ipykernel)",
   "language": "python",
   "name": "python3"
  },
  "language_info": {
   "codemirror_mode": {
    "name": "ipython",
    "version": 3
   },
   "file_extension": ".py",
   "mimetype": "text/x-python",
   "name": "python",
   "nbconvert_exporter": "python",
   "pygments_lexer": "ipython3",
   "version": "3.12.4"
  }
 },
 "nbformat": 4,
 "nbformat_minor": 5
}
